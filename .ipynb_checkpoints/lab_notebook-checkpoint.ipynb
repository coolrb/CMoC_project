{
 "cells": [
  {
   "cell_type": "markdown",
   "metadata": {},
   "source": [
    "# Lab Notebook for Final Project of Computational Models of Cognition\n",
    "## Authors: Gabe Brookman, James Yang"
   ]
  },
  {
   "cell_type": "markdown",
   "metadata": {},
   "source": [
    "### Notes Oct. 10th:\n",
    "We came together to write our project proposal, which we both editted independently for the next day or two. The whole week leading up to this meeting, we had been sending papers back and forth and reading them, as well as brainstorming ideas for what topic to do our final project on, so this meeting was a natural culmination of our work thus far. We didn't begin implementation or do anything beyond background research, coming up with our idea, and writing our proposal."
   ]
  },
  {
   "cell_type": "markdown",
   "metadata": {},
   "source": [
    "### Notes Oct 21st:\n",
    "We first updated our Github repo (https://github.com/formidify/CMoC_project): the read_me and todo files. We also created this Jupyter notebook to keep track of our progress. Then, we created a Python file to clean the Enron email dataset by including only the subjects and body (for now) of each email, as well as basic data cleaning such as removing symbols and common stop words (such as 'a', 'and' and 'an', etc.) from the email subject lines. We also got rid of reply and forward emails, as well as emails whose subjects include significant words that do not appear in the body (so that we can run extractive summarisation on that email)."
   ]
  },
  {
   "cell_type": "markdown",
   "metadata": {},
   "source": []
  }
 ],
 "metadata": {
  "kernelspec": {
   "display_name": "Python 3",
   "language": "python",
   "name": "python3"
  },
  "language_info": {
   "codemirror_mode": {
    "name": "ipython",
    "version": 3
   },
   "file_extension": ".py",
   "mimetype": "text/x-python",
   "name": "python",
   "nbconvert_exporter": "python",
   "pygments_lexer": "ipython3",
   "version": "3.7.0"
  }
 },
 "nbformat": 4,
 "nbformat_minor": 2
}
